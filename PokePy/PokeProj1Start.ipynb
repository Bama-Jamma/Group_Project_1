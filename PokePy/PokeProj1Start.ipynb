{
 "cells": [
  {
   "cell_type": "code",
   "execution_count": 1,
   "id": "cfce1a69",
   "metadata": {},
   "outputs": [],
   "source": [
    "import pandas as pd \n",
    "import json\n",
    "import requests \n",
    "import matplotlib.pyplot as plt\n",
    "from pprint import pprint\n",
    "import numpy as np"
   ]
  },
  {
   "cell_type": "code",
   "execution_count": 2,
   "id": "0417a634",
   "metadata": {},
   "outputs": [
    {
     "ename": "ValueError",
     "evalue": "DataFrame constructor not properly called!",
     "output_type": "error",
     "traceback": [
      "\u001b[1;31m---------------------------------------------------------------------------\u001b[0m",
      "\u001b[1;31mValueError\u001b[0m                                Traceback (most recent call last)",
      "\u001b[1;32m~\\AppData\\Local\\Temp\\ipykernel_1620\\1918066205.py\u001b[0m in \u001b[0;36m?\u001b[1;34m()\u001b[0m\n\u001b[1;32m----> 1\u001b[1;33m \u001b[0md\u001b[0m \u001b[1;33m=\u001b[0m \u001b[0mpd\u001b[0m\u001b[1;33m.\u001b[0m\u001b[0mDataFrame\u001b[0m\u001b[1;33m(\u001b[0m\u001b[0mdict\u001b[0m\u001b[1;33m)\u001b[0m\u001b[1;33m\u001b[0m\u001b[1;33m\u001b[0m\u001b[0m\n\u001b[0m\u001b[0;32m      2\u001b[0m \u001b[1;33m\u001b[0m\u001b[0m\n\u001b[0;32m      3\u001b[0m \u001b[1;31m#How many number of pokemon do you want\u001b[0m\u001b[1;33m\u001b[0m\u001b[1;33m\u001b[0m\u001b[0m\n\u001b[0;32m      4\u001b[0m \u001b[0my\u001b[0m \u001b[1;33m=\u001b[0m \u001b[1;36m150\u001b[0m\u001b[1;33m\u001b[0m\u001b[1;33m\u001b[0m\u001b[0m\n",
      "\u001b[1;32m~\\anaconda3\\lib\\site-packages\\pandas\\core\\frame.py\u001b[0m in \u001b[0;36m?\u001b[1;34m(self, data, index, columns, dtype, copy)\u001b[0m\n\u001b[0;32m    813\u001b[0m                 )\n\u001b[0;32m    814\u001b[0m         \u001b[1;31m# For data is scalar\u001b[0m\u001b[1;33m\u001b[0m\u001b[1;33m\u001b[0m\u001b[0m\n\u001b[0;32m    815\u001b[0m         \u001b[1;32melse\u001b[0m\u001b[1;33m:\u001b[0m\u001b[1;33m\u001b[0m\u001b[1;33m\u001b[0m\u001b[0m\n\u001b[0;32m    816\u001b[0m             \u001b[1;32mif\u001b[0m \u001b[0mindex\u001b[0m \u001b[1;32mis\u001b[0m \u001b[1;32mNone\u001b[0m \u001b[1;32mor\u001b[0m \u001b[0mcolumns\u001b[0m \u001b[1;32mis\u001b[0m \u001b[1;32mNone\u001b[0m\u001b[1;33m:\u001b[0m\u001b[1;33m\u001b[0m\u001b[1;33m\u001b[0m\u001b[0m\n\u001b[1;32m--> 817\u001b[1;33m                 \u001b[1;32mraise\u001b[0m \u001b[0mValueError\u001b[0m\u001b[1;33m(\u001b[0m\u001b[1;34m\"DataFrame constructor not properly called!\"\u001b[0m\u001b[1;33m)\u001b[0m\u001b[1;33m\u001b[0m\u001b[1;33m\u001b[0m\u001b[0m\n\u001b[0m\u001b[0;32m    818\u001b[0m \u001b[1;33m\u001b[0m\u001b[0m\n\u001b[0;32m    819\u001b[0m             \u001b[0mindex\u001b[0m \u001b[1;33m=\u001b[0m \u001b[0mensure_index\u001b[0m\u001b[1;33m(\u001b[0m\u001b[0mindex\u001b[0m\u001b[1;33m)\u001b[0m\u001b[1;33m\u001b[0m\u001b[1;33m\u001b[0m\u001b[0m\n\u001b[0;32m    820\u001b[0m             \u001b[0mcolumns\u001b[0m \u001b[1;33m=\u001b[0m \u001b[0mensure_index\u001b[0m\u001b[1;33m(\u001b[0m\u001b[0mcolumns\u001b[0m\u001b[1;33m)\u001b[0m\u001b[1;33m\u001b[0m\u001b[1;33m\u001b[0m\u001b[0m\n",
      "\u001b[1;31mValueError\u001b[0m: DataFrame constructor not properly called!"
     ]
    }
   ],
   "source": [
    "\n",
    "d = pd.DataFrame(dict)\n",
    "\n",
    "#How many number of pokemon do you want \n",
    "y = 150\n",
    "\n",
    "for x in range(1,y+1):\n",
    "    id = x\n",
    "    url = f\"https://pokeapi.co/api/v2/pokemon/{id}/\"\n",
    "    r = requests.get(url).json()\n",
    "    i = r[\"id\"]\n",
    "    d.loc[x,\"id\"] = i\n",
    "    n = r[\"name\"]\n",
    "    d.loc[x,\"name\"] = n\n",
    "    t1 = r[\"types\"][0][\"type\"][\"name\"]\n",
    "    d.loc[x,\"type 1\"] = t1\n",
    "    try:\n",
    "        t2 = r[\"types\"][1][\"type\"][\"name\"]\n",
    "        d.loc[x,\"type 2\"] = t2\n",
    "    except IndexError: \n",
    "        d.loc[x,\"type 2\"] = \"na\"\n",
    "    h = r[\"height\"]\n",
    "    d.loc[x,\"height\"] = h\n",
    "    b = r[\"stats\"][0][\"base_stat\"]\n",
    "    d.loc[x,\"HP\"] = b\n",
    "    w = r[\"weight\"]\n",
    "    d.loc[x,\"weight\"] = w\n",
    "    \n",
    "    m1 = r[\"moves\"][0][\"move\"][\"name\"]\n",
    "    d.loc[x,\"move 1\"] = m1\n",
    "    try:\n",
    "        m2 = r[\"moves\"][1][\"move\"][\"name\"]\n",
    "        d.loc[x,\"move 2\"] = m2\n",
    "    except IndexError: \n",
    "        d.loc[x,\"move 2\"] = \"na\"\n",
    "    try:\n",
    "        m3 = r[\"moves\"][2][\"move\"][\"name\"]\n",
    "        d.loc[x,\"move 3\"] = m3\n",
    "    except IndexError: \n",
    "        d.loc[x,\"move 3\"] = \"na\"\n",
    "    try:\n",
    "        m4 = r[\"moves\"][3][\"move\"][\"name\"]\n",
    "        d.loc[x,\"move 4\"] = m4\n",
    "    except IndexError: \n",
    "        d.loc[x,\"move 4\"] = \"na\"\n",
    "    try:\n",
    "        m5 = r[\"moves\"][4][\"move\"][\"name\"]\n",
    "        d.loc[x,\"move 5\"] = m5\n",
    "    except IndexError: \n",
    "        d.loc[x,\"move 5\"] = \"na\"\n",
    "    try:\n",
    "        m6 = r[\"moves\"][5][\"move\"][\"name\"]\n",
    "        d.loc[x,\"move 6\"] = m6\n",
    "    except IndexError: \n",
    "        d.loc[x,\"move 6\"] = \"na\"\n",
    "d"
   ]
  },
  {
   "cell_type": "code",
   "execution_count": null,
   "id": "5eb5d68e",
   "metadata": {},
   "outputs": [],
   "source": [
    "url = f\"https://pokeapi.co/api/v2/pokemon/1/\"\n",
    "r = requests.get(url).json()\n",
    "pprint(json.dumps(r, indent =4))"
   ]
  },
  {
   "cell_type": "code",
   "execution_count": null,
   "id": "0c08961c",
   "metadata": {},
   "outputs": [],
   "source": [
    "np.mean(h)"
   ]
  },
  {
   "cell_type": "code",
   "execution_count": null,
   "id": "01f70d35",
   "metadata": {},
   "outputs": [],
   "source": [
    "d[\"type 1\"].unique()"
   ]
  },
  {
   "cell_type": "code",
   "execution_count": null,
   "id": "4d280dae",
   "metadata": {},
   "outputs": [],
   "source": []
  },
  {
   "cell_type": "code",
   "execution_count": null,
   "id": "b669728d",
   "metadata": {},
   "outputs": [],
   "source": [
    "newt1 = d[\"type 1\"].unique()"
   ]
  },
  {
   "cell_type": "code",
   "execution_count": null,
   "id": "e2ae2f8c",
   "metadata": {},
   "outputs": [],
   "source": [
    "d[\"type 1\"].count()"
   ]
  },
  {
   "cell_type": "code",
   "execution_count": null,
   "id": "50b365ce",
   "metadata": {},
   "outputs": [],
   "source": [
    "d1 = pd.DataFrame(d.groupby([\"type 1\"])[\"HP\"].mean())\n",
    "\n",
    "d1.info()\n",
    "d1"
   ]
  },
  {
   "cell_type": "code",
   "execution_count": null,
   "id": "bf017474",
   "metadata": {},
   "outputs": [],
   "source": [
    "col = d1.HP.values.tolist()\n",
    "col"
   ]
  },
  {
   "cell_type": "code",
   "execution_count": null,
   "id": "ccad8258",
   "metadata": {},
   "outputs": [],
   "source": [
    "x_axis = np.arange(len(col))\n",
    "y_axis = d1[\"HP\"]\n",
    "\n",
    "\n",
    "plt.bar(x_axis,y_axis)"
   ]
  },
  {
   "cell_type": "code",
   "execution_count": null,
   "id": "ea2e765a",
   "metadata": {},
   "outputs": [],
   "source": [
    "tick_locations = [value for value in x_axis]\n",
    "plt.xticks(tick_locations, newt1,rotation = 45)\n",
    "plt.bar(x_axis,y_axis)\n",
    "plt.title(\"Average HP by Type of Pokemon\")\n",
    "plt.xlabel(\"Type of Pokemon\")\n",
    "plt.ylabel(\"Average HP\")\n",
    "plt.show()"
   ]
  },
  {
   "cell_type": "code",
   "execution_count": null,
   "id": "b4e5fbad",
   "metadata": {},
   "outputs": [],
   "source": []
  }
 ],
 "metadata": {
  "kernelspec": {
   "display_name": "Python 3 (ipykernel)",
   "language": "python",
   "name": "python3"
  },
  "language_info": {
   "codemirror_mode": {
    "name": "ipython",
    "version": 3
   },
   "file_extension": ".py",
   "mimetype": "text/x-python",
   "name": "python",
   "nbconvert_exporter": "python",
   "pygments_lexer": "ipython3",
   "version": "3.10.9"
  }
 },
 "nbformat": 4,
 "nbformat_minor": 5
}
